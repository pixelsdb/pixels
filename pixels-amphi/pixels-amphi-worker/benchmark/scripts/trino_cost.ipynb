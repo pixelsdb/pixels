{
 "cells": [
  {
   "cell_type": "code",
   "execution_count": 44,
   "id": "bcf764c4-67a4-43f4-8e7c-a004ec2bc5ef",
   "metadata": {
    "tags": []
   },
   "outputs": [],
   "source": [
    "from pyhive import trino\n",
    "import pandas as pd\n",
    "import re\n",
    "\n",
    "# 创建连接\n",
    "conn = trino.connect(\n",
    "    host='ec2-18-116-88-221.us-east-2.compute.amazonaws.com',\n",
    "    port=8080,\n",
    "    catalog='pixels',\n",
    "    schema='clickbench',\n",
    ")\n",
    "\n",
    "# 创建一个cursor对象\n",
    "cursor = conn.cursor()\n",
    "\n",
    "def calculate_cost(query, cursor):\n",
    "    # 定义你的EXPLAIN查询\n",
    "    query = 'EXPLAIN ' + query\n",
    "\n",
    "    # 执行查询\n",
    "    cursor.execute(query)\n",
    "\n",
    "    # 获取结果\n",
    "    rows = cursor.fetchall()\n",
    "\n",
    "    # 将结果转为DataFrame\n",
    "    df = pd.DataFrame(rows, columns=[desc[0] for desc in cursor.description])\n",
    "\n",
    "    # 提取所有Scan操作的存储大小，并分解为数量和单位\n",
    "    scan_costs = df[df.iloc[:, 0].str.contains('Scan')].iloc[:, 0].str.extractall(r'Estimates: \\{rows: [0-9]* \\((?P<rows_size>[0-9\\.]*)(?P<rows_unit>[A-Za-z]*)\\)')\n",
    "\n",
    "    # 转化数量到对应的数字\n",
    "    scan_costs['rows_size'] = scan_costs['rows_size'].astype(float)\n",
    "\n",
    "    # 创建一个字典用于存储每种单位的转换系数\n",
    "    unit_conversion = {'GB': 1e9, 'MB': 1e6, 'kB': 1e3, 'B': 1}  # 这只是一个例子，你可能需要根据实际情况修改\n",
    "\n",
    "    # 转换所有的存储大小到统一的单位（这里我们选择的是字节）\n",
    "    scan_costs['rows_size'] = scan_costs.apply(lambda row: row['rows_size'] * unit_conversion[row['rows_unit']], axis=1)\n",
    "\n",
    "    # 计算所有存储大小的总和\n",
    "    total_size = scan_costs['rows_size'].sum()\n",
    "\n",
    "    # 打印结果\n",
    "    print(round(total_size / 1024 / 1024 / 1024, 2))"
   ]
  },
  {
   "cell_type": "code",
   "execution_count": 49,
   "id": "9151de8b-c94e-4eb6-aeb4-f1f0dbf933a7",
   "metadata": {
    "tags": []
   },
   "outputs": [
    {
     "name": "stdout",
     "output_type": "stream",
     "text": [
      "0.53\n",
      "0.44\n",
      "0.53\n",
      "70.26\n",
      "1.13\n",
      "1.13\n",
      "2.51\n",
      "1.21\n",
      "2.54\n",
      "2.51\n",
      "1.21\n",
      "1.21\n",
      "1.21\n",
      "5.47\n",
      "0.95\n",
      "0.95\n"
     ]
    }
   ],
   "source": [
    "with open(r\"../workload/clickbench.txt\", \"r\") as f:\n",
    "    queries = [line.strip() for line in f]\n",
    "for query in queries[24:]:\n",
    "    calculate_cost(query, cursor)"
   ]
  },
  {
   "cell_type": "code",
   "execution_count": null,
   "id": "7e050188-aa1b-45c5-98b2-8727844a70b1",
   "metadata": {
    "tags": []
   },
   "outputs": [],
   "source": []
  },
  {
   "cell_type": "code",
   "execution_count": null,
   "id": "e1249da6-e033-4eea-8ebd-3d3029332481",
   "metadata": {},
   "outputs": [],
   "source": []
  },
  {
   "cell_type": "code",
   "execution_count": 35,
   "id": "4bfa1dcb-4efc-4327-9e10-066c6cb8cbe9",
   "metadata": {
    "tags": []
   },
   "outputs": [
    {
     "name": "stdout",
     "output_type": "stream",
     "text": [
      "6.518282542936504\n"
     ]
    }
   ],
   "source": [
    "# 提取所有Scan操作的存储大小，并分解为数量和单位\n",
    "scan_costs = df[df.iloc[:, 0].str.contains('Scan')].iloc[:, 0].str.extractall(r'Estimates: \\{rows: [0-9]* \\((?P<rows_size>[0-9\\.]*)(?P<rows_unit>[A-Za-z]*)\\)')\n",
    "\n",
    "# 转化数量到对应的数字\n",
    "scan_costs['rows_size'] = scan_costs['rows_size'].astype(float)\n",
    "\n",
    "# 创建一个字典用于存储每种单位的转换系数\n",
    "unit_conversion = {'GB': 1e9, 'MB': 1e6, 'kB': 1e3, 'B': 1}  # 这只是一个例子，你可能需要根据实际情况修改\n",
    "\n",
    "# 转换所有的存储大小到统一的单位（这里我们选择的是字节）\n",
    "scan_costs['rows_size'] = scan_costs.apply(lambda row: row['rows_size'] * unit_conversion[row['rows_unit']], axis=1)\n",
    "\n",
    "# 计算所有存储大小的总和\n",
    "total_size = scan_costs['rows_size'].sum()\n",
    "\n",
    "# 打印结果\n",
    "print(total_size / 1024 / 1024 / 1024)"
   ]
  },
  {
   "cell_type": "code",
   "execution_count": null,
   "id": "5f4294f9-9a0a-42f6-93a8-552bd101f381",
   "metadata": {
    "tags": []
   },
   "outputs": [],
   "source": []
  },
  {
   "cell_type": "code",
   "execution_count": null,
   "id": "a5f1577e-0e38-4876-af14-8b7a6bff67dd",
   "metadata": {},
   "outputs": [],
   "source": []
  }
 ],
 "metadata": {
  "kernelspec": {
   "display_name": "Python 3 (ipykernel)",
   "language": "python",
   "name": "python3"
  },
  "language_info": {
   "codemirror_mode": {
    "name": "ipython",
    "version": 3
   },
   "file_extension": ".py",
   "mimetype": "text/x-python",
   "name": "python",
   "nbconvert_exporter": "python",
   "pygments_lexer": "ipython3",
   "version": "3.9.16"
  }
 },
 "nbformat": 4,
 "nbformat_minor": 5
}
